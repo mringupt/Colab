{
  "nbformat": 4,
  "nbformat_minor": 0,
  "metadata": {
    "colab": {
      "name": "Downloading OpenImages  Custom Dataset.ipynb",
      "provenance": [],
      "authorship_tag": "ABX9TyMjtj2p8kvd1HQ2C9mNZL/u",
      "include_colab_link": true
    },
    "kernelspec": {
      "name": "python3",
      "display_name": "Python 3"
    }
  },
  "cells": [
    {
      "cell_type": "markdown",
      "metadata": {
        "id": "view-in-github",
        "colab_type": "text"
      },
      "source": [
        "<a href=\"https://colab.research.google.com/github/mringupt/Colab/blob/master/Downloading_OpenImages_Custom_Dataset.ipynb\" target=\"_parent\"><img src=\"https://colab.research.google.com/assets/colab-badge.svg\" alt=\"Open In Colab\"/></a>"
      ]
    },
    {
      "cell_type": "code",
      "metadata": {
        "id": "QUW_6EmoMg5Z",
        "colab_type": "code",
        "colab": {
          "base_uri": "https://localhost:8080/",
          "height": 124
        },
        "outputId": "3735a680-7260-4ce3-b924-f485dc5a90b9"
      },
      "source": [
        "from google.colab import drive\n",
        "drive.mount('/content/gdrive/')"
      ],
      "execution_count": 1,
      "outputs": [
        {
          "output_type": "stream",
          "text": [
            "Go to this URL in a browser: https://accounts.google.com/o/oauth2/auth?client_id=947318989803-6bn6qk8qdgf4n4g3pfee6491hc0brc4i.apps.googleusercontent.com&redirect_uri=urn%3aietf%3awg%3aoauth%3a2.0%3aoob&response_type=code&scope=email%20https%3a%2f%2fwww.googleapis.com%2fauth%2fdocs.test%20https%3a%2f%2fwww.googleapis.com%2fauth%2fdrive%20https%3a%2f%2fwww.googleapis.com%2fauth%2fdrive.photos.readonly%20https%3a%2f%2fwww.googleapis.com%2fauth%2fpeopleapi.readonly\n",
            "\n",
            "Enter your authorization code:\n",
            "··········\n",
            "Mounted at /content/gdrive/\n"
          ],
          "name": "stdout"
        }
      ]
    },
    {
      "cell_type": "code",
      "metadata": {
        "id": "ohjGI8ieMxbU",
        "colab_type": "code",
        "colab": {
          "base_uri": "https://localhost:8080/",
          "height": 35
        },
        "outputId": "ae216f75-5b3c-4575-a99c-564caff5d9f4"
      },
      "source": [
        "cd /content/gdrive/My Drive"
      ],
      "execution_count": 2,
      "outputs": [
        {
          "output_type": "stream",
          "text": [
            "/content/gdrive/My Drive\n"
          ],
          "name": "stdout"
        }
      ]
    },
    {
      "cell_type": "code",
      "metadata": {
        "id": "zDELrVx9wOhP",
        "colab_type": "code",
        "colab": {}
      },
      "source": [
        "!mkdir OpenImages"
      ],
      "execution_count": 3,
      "outputs": []
    },
    {
      "cell_type": "code",
      "metadata": {
        "id": "uFlxQX5cwSlD",
        "colab_type": "code",
        "colab": {
          "base_uri": "https://localhost:8080/",
          "height": 35
        },
        "outputId": "5920a0b2-57f2-4396-d864-7fa381f66ad9"
      },
      "source": [
        "cd OpenImages"
      ],
      "execution_count": 4,
      "outputs": [
        {
          "output_type": "stream",
          "text": [
            "/content/gdrive/My Drive/OpenImages\n"
          ],
          "name": "stdout"
        }
      ]
    },
    {
      "cell_type": "code",
      "metadata": {
        "id": "GsTqpO51wVE_",
        "colab_type": "code",
        "colab": {
          "base_uri": "https://localhost:8080/",
          "height": 35
        },
        "outputId": "a053d8c7-5e1c-4bea-efef-b1cebbe0ea32"
      },
      "source": [
        "!pwd"
      ],
      "execution_count": 5,
      "outputs": [
        {
          "output_type": "stream",
          "text": [
            "/content/gdrive/My Drive/OpenImages\n"
          ],
          "name": "stdout"
        }
      ]
    },
    {
      "cell_type": "code",
      "metadata": {
        "id": "gMAv3cERwV2M",
        "colab_type": "code",
        "colab": {
          "base_uri": "https://localhost:8080/",
          "height": 800
        },
        "outputId": "8b941216-8405-45bc-9bd0-2aa980ba9263"
      },
      "source": [
        "# Download required meta-files\n",
        "!wget https://storage.googleapis.com/openimages/2018_04/class-descriptions-boxable.csv\n",
        " \n",
        "!wget https://storage.googleapis.com/openimages/2018_04/train/train-annotations-bbox.csv\n",
        " \n",
        "!wget https://storage.googleapis.com/openimages/2018_04/validation/validation-annotations-bbox.csv\n",
        " \n",
        "!wget https://storage.googleapis.com/openimages/2018_04/test/test-annotations-bbox.csv"
      ],
      "execution_count": 6,
      "outputs": [
        {
          "output_type": "stream",
          "text": [
            "--2020-07-24 16:56:55--  https://storage.googleapis.com/openimages/2018_04/class-descriptions-boxable.csv\n",
            "Resolving storage.googleapis.com (storage.googleapis.com)... 172.217.204.128, 172.217.203.128, 172.253.123.128, ...\n",
            "Connecting to storage.googleapis.com (storage.googleapis.com)|172.217.204.128|:443... connected.\n",
            "HTTP request sent, awaiting response... 200 OK\n",
            "Length: 11255 (11K) [text/csv]\n",
            "Saving to: ‘class-descriptions-boxable.csv’\n",
            "\n",
            "\r          class-des   0%[                    ]       0  --.-KB/s               \rclass-descriptions- 100%[===================>]  10.99K  --.-KB/s    in 0.002s  \n",
            "\n",
            "2020-07-24 16:56:55 (6.32 MB/s) - ‘class-descriptions-boxable.csv’ saved [11255/11255]\n",
            "\n",
            "--2020-07-24 16:56:57--  https://storage.googleapis.com/openimages/2018_04/train/train-annotations-bbox.csv\n",
            "Resolving storage.googleapis.com (storage.googleapis.com)... 173.194.217.128, 172.217.204.128, 172.217.203.128, ...\n",
            "Connecting to storage.googleapis.com (storage.googleapis.com)|173.194.217.128|:443... connected.\n",
            "HTTP request sent, awaiting response... 200 OK\n",
            "Length: 1194033454 (1.1G) [text/csv]\n",
            "Saving to: ‘train-annotations-bbox.csv’\n",
            "\n",
            "train-annotations-b 100%[===================>]   1.11G  48.8MB/s    in 23s     \n",
            "\n",
            "2020-07-24 16:57:20 (49.8 MB/s) - ‘train-annotations-bbox.csv’ saved [1194033454/1194033454]\n",
            "\n",
            "--2020-07-24 16:57:22--  https://storage.googleapis.com/openimages/2018_04/validation/validation-annotations-bbox.csv\n",
            "Resolving storage.googleapis.com (storage.googleapis.com)... 172.217.204.128, 172.217.203.128, 172.253.123.128, ...\n",
            "Connecting to storage.googleapis.com (storage.googleapis.com)|172.217.204.128|:443... connected.\n",
            "HTTP request sent, awaiting response... 200 OK\n",
            "Length: 17074036 (16M) [text/csv]\n",
            "Saving to: ‘validation-annotations-bbox.csv’\n",
            "\n",
            "validation-annotati 100%[===================>]  16.28M  26.9MB/s    in 0.6s    \n",
            "\n",
            "2020-07-24 16:57:22 (26.9 MB/s) - ‘validation-annotations-bbox.csv’ saved [17074036/17074036]\n",
            "\n",
            "--2020-07-24 16:57:24--  https://storage.googleapis.com/openimages/2018_04/test/test-annotations-bbox.csv\n",
            "Resolving storage.googleapis.com (storage.googleapis.com)... 173.194.216.128, 64.233.170.128, 172.217.193.128, ...\n",
            "Connecting to storage.googleapis.com (storage.googleapis.com)|173.194.216.128|:443... connected.\n",
            "HTTP request sent, awaiting response... 200 OK\n",
            "Length: 52174204 (50M) [text/csv]\n",
            "Saving to: ‘test-annotations-bbox.csv’\n",
            "\n",
            "test-annotations-bb 100%[===================>]  49.76M  47.1MB/s    in 1.1s    \n",
            "\n",
            "2020-07-24 16:57:25 (47.1 MB/s) - ‘test-annotations-bbox.csv’ saved [52174204/52174204]\n",
            "\n"
          ],
          "name": "stdout"
        }
      ]
    },
    {
      "cell_type": "code",
      "metadata": {
        "id": "NN7oJo1BwZPz",
        "colab_type": "code",
        "colab": {
          "base_uri": "https://localhost:8080/",
          "height": 35
        },
        "outputId": "c5922cab-50dc-437d-b58d-52504da37533"
      },
      "source": [
        "#This magic function is used to create the files. downloadOI.py is the file name\n",
        "%%writefile downloadOI.py\n",
        "#Author : Sunita Nayak, Big Vision LLC\n",
        "\n",
        "#### Usage example: python3 downloadOI.py --classes 'Ice_cream,Cookie' --mode train\n",
        "\n",
        "import argparse\n",
        "import csv\n",
        "import subprocess\n",
        "import os\n",
        "from tqdm import tqdm\n",
        "import multiprocessing\n",
        "from multiprocessing import Pool as thread_pool\n",
        "\n",
        "cpu_count = multiprocessing.cpu_count()\n",
        "\n",
        "parser = argparse.ArgumentParser(description='Download Class specific images from OpenImagesV4')\n",
        "parser.add_argument(\"--mode\", help=\"Dataset category - train, validation or test\", required=True)\n",
        "parser.add_argument(\"--classes\", help=\"Names of object classes to be downloaded\", required=True)\n",
        "parser.add_argument(\"--nthreads\", help=\"Number of threads to use\", required=False, type=int, default=cpu_count*2)\n",
        "parser.add_argument(\"--occluded\", help=\"Include occluded images\", required=False, type=int, default=1)\n",
        "parser.add_argument(\"--truncated\", help=\"Include truncated images\", required=False, type=int, default=1)\n",
        "parser.add_argument(\"--groupOf\", help=\"Include groupOf images\", required=False, type=int, default=1)\n",
        "parser.add_argument(\"--depiction\", help=\"Include depiction images\", required=False, type=int, default=1)\n",
        "parser.add_argument(\"--inside\", help=\"Include inside images\", required=False, type=int, default=1)\n",
        "\n",
        "args = parser.parse_args()\n",
        "\n",
        "run_mode = args.mode\n",
        "\n",
        "threads = args.nthreads\n",
        "\n",
        "classes = []\n",
        "for class_name in args.classes.split(','):\n",
        "    classes.append(class_name)\n",
        "\n",
        "with open('./class-descriptions-boxable.csv', mode='r') as infile:\n",
        "    reader = csv.reader(infile)\n",
        "    dict_list = {rows[1]:rows[0] for rows in reader}\n",
        "\n",
        "subprocess.run(['rm', '-rf', run_mode])\n",
        "subprocess.run([ 'mkdir', run_mode])\n",
        "\n",
        "pool = thread_pool(threads)\n",
        "commands = []\n",
        "cnt = 0\n",
        "\n",
        "for ind in range(0, len(classes)):\n",
        "    \n",
        "    class_name = classes[ind]\n",
        "    print(\"Class \"+str(ind) + \" : \" + class_name)\n",
        "    \n",
        "    subprocess.run([ 'mkdir', run_mode+'/'+class_name])\n",
        "\n",
        "    command = \"grep \"+dict_list[class_name.replace('_', ' ')] + \" ./\" + run_mode + \"-annotations-bbox.csv\"\n",
        "    class_annotations = subprocess.run(command.split(), stdout=subprocess.PIPE).stdout.decode('utf-8')\n",
        "    class_annotations = class_annotations.splitlines()\n",
        "\n",
        "    for line in class_annotations:\n",
        "\n",
        "        line_parts = line.split(',')\n",
        "        \n",
        "        #IsOccluded,IsTruncated,IsGroupOf,IsDepiction,IsInside\n",
        "        if (args.occluded==0 and int(line_parts[8])>0):\n",
        "            print(\"Skipped %s\",line_parts[0])\n",
        "            continue\n",
        "        if (args.truncated==0 and int(line_parts[9])>0):\n",
        "            print(\"Skipped %s\",line_parts[0])\n",
        "            continue\n",
        "        if (args.groupOf==0 and int(line_parts[10])>0):\n",
        "            print(\"Skipped %s\",line_parts[0])\n",
        "            continue\n",
        "        if (args.depiction==0 and int(line_parts[11])>0):\n",
        "            print(\"Skipped %s\",line_parts[0])\n",
        "            continue\n",
        "        if (args.inside==0 and int(line_parts[12])>0):\n",
        "            print(\"Skipped %s\",line_parts[0])\n",
        "            continue\n",
        "\n",
        "        cnt = cnt + 1\n",
        "\n",
        "        command = 'aws s3 --no-sign-request --only-show-errors cp s3://open-images-dataset/'+run_mode+'/'+line_parts[0]+'.jpg '+ run_mode+'/'+class_name+'/'+line_parts[0]+'.jpg'\n",
        "        commands.append(command)\n",
        "        \n",
        "        with open('%s/%s/%s.txt'%(run_mode,class_name,line_parts[0]),'a') as f:\n",
        "            f.write(','.join([class_name, line_parts[4], line_parts[5], line_parts[6], line_parts[7]])+'\\n')\n",
        "\n",
        "print(\"Annotation Count : \"+str(cnt))\n",
        "commands = list(set(commands))\n",
        "print(\"Number of images to be downloaded : \"+str(len(commands)))\n",
        "\n",
        "list(tqdm(pool.imap(os.system, commands), total = len(commands) ))\n",
        "\n",
        "pool.close()\n",
        "pool.join()"
      ],
      "execution_count": 7,
      "outputs": [
        {
          "output_type": "stream",
          "text": [
            "Writing downloadOI.py\n"
          ],
          "name": "stdout"
        }
      ]
    },
    {
      "cell_type": "code",
      "metadata": {
        "id": "XXsgNXYkwjfa",
        "colab_type": "code",
        "colab": {
          "base_uri": "https://localhost:8080/",
          "height": 69
        },
        "outputId": "9d14fca5-2470-4ebd-a76e-62385dc8682e"
      },
      "source": [
        "!ls"
      ],
      "execution_count": 8,
      "outputs": [
        {
          "output_type": "stream",
          "text": [
            "class-descriptions-boxable.csv\ttrain-annotations-bbox.csv\n",
            "downloadOI.py\t\t\tvalidation-annotations-bbox.csv\n",
            "test-annotations-bbox.csv\n"
          ],
          "name": "stdout"
        }
      ]
    },
    {
      "cell_type": "code",
      "metadata": {
        "id": "vNojX1czwktj",
        "colab_type": "code",
        "colab": {
          "base_uri": "https://localhost:8080/",
          "height": 661
        },
        "outputId": "f8393cd5-f66a-4df1-c0d3-22c85765eb6b"
      },
      "source": [
        "!pip install awscli"
      ],
      "execution_count": 11,
      "outputs": [
        {
          "output_type": "stream",
          "text": [
            "Collecting awscli\n",
            "\u001b[?25l  Downloading https://files.pythonhosted.org/packages/2f/77/98d8c67c30eab4ea19369d2268ad6c6e206ad5f55de72aa1f6be01797aff/awscli-1.18.104.tar.gz (1.3MB)\n",
            "\u001b[K     |████████████████████████████████| 1.3MB 2.6MB/s \n",
            "\u001b[?25hCollecting botocore==1.17.27\n",
            "\u001b[?25l  Downloading https://files.pythonhosted.org/packages/51/49/d475aadc0f5e2a4145d613ddfd4a1e12c254d6a5d4537921f2af268d3456/botocore-1.17.27-py2.py3-none-any.whl (6.4MB)\n",
            "\u001b[K     |████████████████████████████████| 6.4MB 20.8MB/s \n",
            "\u001b[?25hRequirement already satisfied: docutils<0.16,>=0.10 in /usr/local/lib/python3.6/dist-packages (from awscli) (0.15.2)\n",
            "Requirement already satisfied: s3transfer<0.4.0,>=0.3.0 in /usr/local/lib/python3.6/dist-packages (from awscli) (0.3.3)\n",
            "Requirement already satisfied: PyYAML<5.4,>=3.10 in /usr/local/lib/python3.6/dist-packages (from awscli) (3.13)\n",
            "Collecting colorama<0.4.4,>=0.2.5\n",
            "  Downloading https://files.pythonhosted.org/packages/c9/dc/45cdef1b4d119eb96316b3117e6d5708a08029992b2fee2c143c7a0a5cc5/colorama-0.4.3-py2.py3-none-any.whl\n",
            "Collecting rsa<=4.5.0,>=3.1.2\n",
            "  Downloading https://files.pythonhosted.org/packages/26/f8/8127fdda0294f044121d20aac7785feb810e159098447967a6103dedfb96/rsa-4.5-py2.py3-none-any.whl\n",
            "Requirement already satisfied: jmespath<1.0.0,>=0.7.1 in /usr/local/lib/python3.6/dist-packages (from botocore==1.17.27->awscli) (0.10.0)\n",
            "Requirement already satisfied: python-dateutil<3.0.0,>=2.1 in /usr/local/lib/python3.6/dist-packages (from botocore==1.17.27->awscli) (2.8.1)\n",
            "Requirement already satisfied: urllib3<1.26,>=1.20; python_version != \"3.4\" in /usr/local/lib/python3.6/dist-packages (from botocore==1.17.27->awscli) (1.24.3)\n",
            "Requirement already satisfied: pyasn1>=0.1.3 in /usr/local/lib/python3.6/dist-packages (from rsa<=4.5.0,>=3.1.2->awscli) (0.4.8)\n",
            "Requirement already satisfied: six>=1.5 in /usr/local/lib/python3.6/dist-packages (from python-dateutil<3.0.0,>=2.1->botocore==1.17.27->awscli) (1.15.0)\n",
            "Building wheels for collected packages: awscli\n",
            "  Building wheel for awscli (setup.py) ... \u001b[?25l\u001b[?25hdone\n",
            "  Created wheel for awscli: filename=awscli-1.18.104-py2.py3-none-any.whl size=3260239 sha256=5aac083212f269017dd487a855d7e3dc0d2a7599a4275d8609a7f6f6293dd27e\n",
            "  Stored in directory: /root/.cache/pip/wheels/20/85/c9/3eeb0f9d8a91b2296856a7a247f534f0236f94691606d97b2e\n",
            "Successfully built awscli\n",
            "Installing collected packages: botocore, colorama, rsa, awscli\n",
            "  Found existing installation: botocore 1.17.24\n",
            "    Uninstalling botocore-1.17.24:\n",
            "      Successfully uninstalled botocore-1.17.24\n",
            "  Found existing installation: rsa 4.6\n",
            "    Uninstalling rsa-4.6:\n",
            "      Successfully uninstalled rsa-4.6\n",
            "Successfully installed awscli-1.18.104 botocore-1.17.27 colorama-0.4.3 rsa-4.5\n"
          ],
          "name": "stdout"
        },
        {
          "output_type": "display_data",
          "data": {
            "application/vnd.colab-display-data+json": {
              "pip_warning": {
                "packages": [
                  "rsa"
                ]
              }
            }
          },
          "metadata": {
            "tags": []
          }
        }
      ]
    },
    {
      "cell_type": "code",
      "metadata": {
        "id": "yDva5gq7w_vi",
        "colab_type": "code",
        "colab": {}
      },
      "source": [
        "# Download Sink and Toilet images for train \n",
        "!python3 downloadOI.py --classes \"Sink,Toilet\" --mode train"
      ],
      "execution_count": null,
      "outputs": []
    },
    {
      "cell_type": "code",
      "metadata": {
        "id": "r3GlU2hJxA9P",
        "colab_type": "code",
        "colab": {}
      },
      "source": [
        "# Download Sink and Toilet images for test \n",
        "!python3 downloadOI.py --classes \"Sink,Toilet\" --mode test"
      ],
      "execution_count": null,
      "outputs": []
    },
    {
      "cell_type": "code",
      "metadata": {
        "id": "N3SJdpJS2Ry8",
        "colab_type": "code",
        "colab": {}
      },
      "source": [
        "# Download Sink and Toilet images for validation \n",
        "!python3 downloadOI.py --classes \"Sink,Toilet\" --mode validation"
      ],
      "execution_count": null,
      "outputs": []
    }
  ]
}